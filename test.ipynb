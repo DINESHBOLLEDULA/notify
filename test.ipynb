{
 "cells": [
  {
   "cell_type": "code",
   "execution_count": 17,
   "metadata": {},
   "outputs": [
    {
     "name": "stdout",
     "output_type": "stream",
     "text": [
      "2023-03-15\n",
      "False\n",
      "True\n"
     ]
    }
   ],
   "source": [
    "import datetime\n",
    "print(datetime.date.today())\n",
    "print(datetime.date.today()==\"2023-03-15\")\n",
    "print(str(datetime.date.today())==\"2023-03-15\")"
   ]
  },
  {
   "cell_type": "code",
   "execution_count": null,
   "metadata": {},
   "outputs": [],
   "source": [
    "user = User.query.filter_by(email=email)"
   ]
  },
  {
   "cell_type": "code",
   "execution_count": 20,
   "metadata": {},
   "outputs": [],
   "source": [
    "from datetime import datetime, timedelta, datetime"
   ]
  },
  {
   "cell_type": "code",
   "execution_count": 22,
   "metadata": {},
   "outputs": [
    {
     "name": "stdout",
     "output_type": "stream",
     "text": [
      "Average days =  4.666666666666667\n",
      "Predicted date =  2022-03-19\n"
     ]
    },
    {
     "data": {
      "text/plain": [
       "'2022-03-19'"
      ]
     },
     "execution_count": 22,
     "metadata": {},
     "output_type": "execute_result"
    }
   ],
   "source": [
    "# define a list of dates\n",
    "\n",
    "datelist=['2022-03-01', '2022-03-05', '2022-03-10','2022-03-15']\n",
    "def calPdate(datelist):\n",
    "    datelist = [datetime.strptime(d, '%Y-%m-%d') for d in datelist]\n",
    "\n",
    "    # calculate the total number of days between all dates\n",
    "    num_days = 0\n",
    "    for i in range(len(datelist) - 1):\n",
    "        delta = datelist[i+1] - datelist[i]\n",
    "        num_days += delta.days\n",
    "    # calculate the average number of days between all dates\n",
    "    avg_days = num_days / (len(datelist) - 1)\n",
    "    print(\"Average days = \",avg_days) # output: 4.5\n",
    "\n",
    "    # define the starting date\n",
    "    start_date = datelist[-1]\n",
    "    # calculate the ending date\n",
    "    end_date = start_date + timedelta(days=avg_days)\n",
    "    end_date=str(end_date).split(\" \")[0]\n",
    "    print(\"Predicted date = \",end_date) # output: 2023-03-22 00:00:00\n",
    "    return end_date\n",
    "calPdate(datelist)\n"
   ]
  },
  {
   "cell_type": "code",
   "execution_count": 16,
   "metadata": {},
   "outputs": [
    {
     "name": "stdout",
     "output_type": "stream",
     "text": [
      "2023-03-15 00:00:00\n"
     ]
    }
   ],
   "source": [
    "from datetime import datetime\n",
    "\n",
    "# define a string representing a date\n",
    "date_str = '2023-03-15'\n",
    "\n",
    "# convert the string to a date object\n",
    "date_obj = datetime.strptime(date_str, '%Y-%m-%d')\n",
    "\n",
    "print(date_obj) # output: 2023-03-15 00:00:00\n"
   ]
  },
  {
   "cell_type": "code",
   "execution_count": null,
   "metadata": {},
   "outputs": [
    {
     "ename": "",
     "evalue": "",
     "output_type": "error",
     "traceback": [
      "\u001b[1;31mRunning cells with 'notify' requires the ipykernel package.\n",
      "\u001b[1;31mRun the following command to install 'ipykernel' into the Python environment. \n",
      "\u001b[1;31mCommand: 'c:/Users/SAVIO/OneDrive/Desktop/Github/notify/notify/Scripts/python.exe -m pip install ipykernel -U --force-reinstall'"
     ]
    }
   ],
   "source": [
    "from twilio.rest import Client\n",
    "\n",
    "account_sid = 'AC99d7765d763b3d0eddb60b19a0f62d27'\n",
    "auth_token = '8d5318248035eb4f5a75ee525740f9eb'\n",
    "client = Client(account_sid, auth_token)\n",
    "def sendMessage(name,phno):\n",
    "    message = client.messages.create(\n",
    "    from_='whatsapp:+14155238886',\n",
    "    body=\"Hey! {} your periods are on the way\".format(name),\n",
    "    to=\"whatsapp:+91{}\".format(phno)\n",
    "    )\n",
    "    print(\"message sent\")\n",
    "sendMessage(\"dom\",6305461499)\n"
   ]
  },
  {
   "cell_type": "code",
   "execution_count": null,
   "metadata": {},
   "outputs": [],
   "source": []
  }
 ],
 "metadata": {
  "kernelspec": {
   "display_name": "Python 3",
   "language": "python",
   "name": "python3"
  },
  "language_info": {
   "codemirror_mode": {
    "name": "ipython",
    "version": 3
   },
   "file_extension": ".py",
   "mimetype": "text/x-python",
   "name": "python",
   "nbconvert_exporter": "python",
   "pygments_lexer": "ipython3",
   "version": "3.10.7"
  },
  "orig_nbformat": 4
 },
 "nbformat": 4,
 "nbformat_minor": 2
}
