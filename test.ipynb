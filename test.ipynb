{
 "cells": [
  {
   "cell_type": "code",
   "execution_count": 3,
   "metadata": {},
   "outputs": [
    {
     "name": "stdout",
     "output_type": "stream",
     "text": [
      "2023-03-17\n",
      "False\n",
      "True\n",
      "2023-03-17\n",
      "['2023-11-12', '2023-11-12', '2023-11-12', '2023-11-12', '2023-03-17']\n"
     ]
    }
   ],
   "source": [
    "import datetime\n",
    "print(datetime.date.today())\n",
    "print(datetime.date.today()==\"2023-03-17\")\n",
    "print(str(datetime.date.today())==\"2023-03-17\")\n",
    "print(str(datetime.date.today()))\n",
    "li=[\"2023-11-12\",\"2023-11-12\",\"2023-11-12\",\"2023-11-12\"]\n",
    "li.append(str(datetime.date.today()))\n",
    "print(li)"
   ]
  },
  {
   "cell_type": "code",
   "execution_count": null,
   "metadata": {},
   "outputs": [],
   "source": [
    "user = User.query.filter_by(email=email)"
   ]
  },
  {
   "cell_type": "code",
   "execution_count": 20,
   "metadata": {},
   "outputs": [],
   "source": [
    "from datetime import datetime, timedelta, datetime"
   ]
  },
  {
   "cell_type": "code",
   "execution_count": 22,
   "metadata": {},
   "outputs": [
    {
     "name": "stdout",
     "output_type": "stream",
     "text": [
      "Average days =  4.666666666666667\n",
      "Predicted date =  2022-03-19\n"
     ]
    },
    {
     "data": {
      "text/plain": [
       "'2022-03-19'"
      ]
     },
     "execution_count": 22,
     "metadata": {},
     "output_type": "execute_result"
    }
   ],
   "source": [
    "# define a list of dates\n",
    "\n",
    "datelist=['2022-03-01', '2022-03-05', '2022-03-10','2022-03-15']\n",
    "def calPdate(datelist):\n",
    "    datelist = [datetime.strptime(d, '%Y-%m-%d') for d in datelist]\n",
    "\n",
    "    # calculate the total number of days between all dates\n",
    "    num_days = 0\n",
    "    for i in range(len(datelist) - 1):\n",
    "        delta = datelist[i+1] - datelist[i]\n",
    "        num_days += delta.days\n",
    "    # calculate the average number of days between all dates\n",
    "    avg_days = num_days / (len(datelist) - 1)\n",
    "    print(\"Average days = \",avg_days) # output: 4.5\n",
    "\n",
    "    # define the starting date\n",
    "    start_date = datelist[-1]\n",
    "    # calculate the ending date\n",
    "    end_date = start_date + timedelta(days=avg_days)\n",
    "    end_date=str(end_date).split(\" \")[0]\n",
    "    print(\"Predicted date = \",end_date) # output: 2023-03-22 00:00:00\n",
    "    return end_date\n",
    "calPdate(datelist)\n"
   ]
  },
  {
   "cell_type": "code",
   "execution_count": 16,
   "metadata": {},
   "outputs": [
    {
     "name": "stdout",
     "output_type": "stream",
     "text": [
      "2023-03-15 00:00:00\n"
     ]
    }
   ],
   "source": [
    "from datetime import datetime\n",
    "\n",
    "# define a string representing a date\n",
    "date_str = '2023-03-15'\n",
    "\n",
    "# convert the string to a date object\n",
    "date_obj = datetime.strptime(date_str, '%Y-%m-%d')\n",
    "\n",
    "print(date_obj) # output: 2023-03-15 00:00:00\n"
   ]
  },
  {
   "cell_type": "code",
   "execution_count": 1,
   "metadata": {},
   "outputs": [
    {
     "ename": "TwilioRestException",
     "evalue": "HTTP 401 error: Unable to create record: Authenticate",
     "output_type": "error",
     "traceback": [
      "\u001b[1;31m---------------------------------------------------------------------------\u001b[0m",
      "\u001b[1;31mTwilioRestException\u001b[0m                       Traceback (most recent call last)",
      "Cell \u001b[1;32mIn[1], line 13\u001b[0m\n\u001b[0;32m      7\u001b[0m     message \u001b[39m=\u001b[39m client\u001b[39m.\u001b[39mmessages\u001b[39m.\u001b[39mcreate(\n\u001b[0;32m      8\u001b[0m     from_\u001b[39m=\u001b[39m\u001b[39m'\u001b[39m\u001b[39mwhatsapp:+14155238886\u001b[39m\u001b[39m'\u001b[39m,\n\u001b[0;32m      9\u001b[0m     body\u001b[39m=\u001b[39m\u001b[39m\"\u001b[39m\u001b[39mHey \u001b[39m\u001b[39m{}\u001b[39;00m\u001b[39m!\u001b[39m\u001b[39m\\n\u001b[39;00m\u001b[39mYour periods are on the way\u001b[39m\u001b[39m\\n\u001b[39;00m\u001b[39m\\n\u001b[39;00m\u001b[39mItems you might need:\u001b[39m\u001b[39m\\n\u001b[39;00m\u001b[39m\\n\u001b[39;00m\u001b[39mhttps://www.bigbasket.com/pc/beauty-hygiene/feminine-hygiene/tampons-menstrual-cups/\u001b[39m\u001b[39m\\n\u001b[39;00m\u001b[39m\\n\u001b[39;00m\u001b[39mhttps://www.stayfree.in/products\u001b[39m\u001b[39m\\n\u001b[39;00m\u001b[39m\\n\u001b[39;00m\u001b[39mhttps://www.bigbasket.com/ps/?q=period\u001b[39m\u001b[39m%20he\u001b[39;00m\u001b[39mat\u001b[39m\u001b[39m%\u001b[39m\u001b[39m20pack&nc=pscs#!page=1\u001b[39m\u001b[39m\"\u001b[39m\u001b[39m.\u001b[39mformat(name),\n\u001b[0;32m     10\u001b[0m     to\u001b[39m=\u001b[39m\u001b[39m\"\u001b[39m\u001b[39mwhatsapp:+91\u001b[39m\u001b[39m{}\u001b[39;00m\u001b[39m\"\u001b[39m\u001b[39m.\u001b[39mformat(phno)\n\u001b[0;32m     11\u001b[0m     )\n\u001b[0;32m     12\u001b[0m     \u001b[39mprint\u001b[39m(\u001b[39m\"\u001b[39m\u001b[39mmessage sent\u001b[39m\u001b[39m\"\u001b[39m)\n\u001b[1;32m---> 13\u001b[0m sendMessage(\u001b[39m\"\u001b[39;49m\u001b[39mDelfine\u001b[39;49m\u001b[39m\"\u001b[39;49m,\u001b[39m6305461499\u001b[39;49m)\n",
      "Cell \u001b[1;32mIn[1], line 7\u001b[0m, in \u001b[0;36msendMessage\u001b[1;34m(name, phno)\u001b[0m\n\u001b[0;32m      6\u001b[0m \u001b[39mdef\u001b[39;00m \u001b[39msendMessage\u001b[39m(name,phno):\n\u001b[1;32m----> 7\u001b[0m     message \u001b[39m=\u001b[39m client\u001b[39m.\u001b[39;49mmessages\u001b[39m.\u001b[39;49mcreate(\n\u001b[0;32m      8\u001b[0m     from_\u001b[39m=\u001b[39;49m\u001b[39m'\u001b[39;49m\u001b[39mwhatsapp:+14155238886\u001b[39;49m\u001b[39m'\u001b[39;49m,\n\u001b[0;32m      9\u001b[0m     body\u001b[39m=\u001b[39;49m\u001b[39m\"\u001b[39;49m\u001b[39mHey \u001b[39;49m\u001b[39m{}\u001b[39;49;00m\u001b[39m!\u001b[39;49m\u001b[39m\\n\u001b[39;49;00m\u001b[39mYour periods are on the way\u001b[39;49m\u001b[39m\\n\u001b[39;49;00m\u001b[39m\\n\u001b[39;49;00m\u001b[39mItems you might need:\u001b[39;49m\u001b[39m\\n\u001b[39;49;00m\u001b[39m\\n\u001b[39;49;00m\u001b[39mhttps://www.bigbasket.com/pc/beauty-hygiene/feminine-hygiene/tampons-menstrual-cups/\u001b[39;49m\u001b[39m\\n\u001b[39;49;00m\u001b[39m\\n\u001b[39;49;00m\u001b[39mhttps://www.stayfree.in/products\u001b[39;49m\u001b[39m\\n\u001b[39;49;00m\u001b[39m\\n\u001b[39;49;00m\u001b[39mhttps://www.bigbasket.com/ps/?q=period\u001b[39;49m\u001b[39m%20he\u001b[39;49;00m\u001b[39mat\u001b[39;49m\u001b[39m%\u001b[39;49m\u001b[39m20pack&nc=pscs#!page=1\u001b[39;49m\u001b[39m\"\u001b[39;49m\u001b[39m.\u001b[39;49mformat(name),\n\u001b[0;32m     10\u001b[0m     to\u001b[39m=\u001b[39;49m\u001b[39m\"\u001b[39;49m\u001b[39mwhatsapp:+91\u001b[39;49m\u001b[39m{}\u001b[39;49;00m\u001b[39m\"\u001b[39;49m\u001b[39m.\u001b[39;49mformat(phno)\n\u001b[0;32m     11\u001b[0m     )\n\u001b[0;32m     12\u001b[0m     \u001b[39mprint\u001b[39m(\u001b[39m\"\u001b[39m\u001b[39mmessage sent\u001b[39m\u001b[39m\"\u001b[39m)\n",
      "File \u001b[1;32mc:\\Users\\SAVIO\\OneDrive\\Desktop\\Github\\notify\\notify\\lib\\site-packages\\twilio\\rest\\api\\v2010\\account\\message\\__init__.py:103\u001b[0m, in \u001b[0;36mMessageList.create\u001b[1;34m(self, to, status_callback, application_sid, max_price, provide_feedback, attempt, validity_period, force_delivery, content_retention, address_retention, smart_encoded, persistent_action, shorten_urls, schedule_type, send_at, send_as_mms, content_sid, content_variables, from_, messaging_service_sid, body, media_url)\u001b[0m\n\u001b[0;32m     49\u001b[0m \u001b[39m\u001b[39m\u001b[39m\"\"\"\u001b[39;00m\n\u001b[0;32m     50\u001b[0m \u001b[39mCreate the MessageInstance\u001b[39;00m\n\u001b[0;32m     51\u001b[0m \n\u001b[1;32m   (...)\u001b[0m\n\u001b[0;32m     76\u001b[0m \u001b[39m:rtype: twilio.rest.api.v2010.account.message.MessageInstance\u001b[39;00m\n\u001b[0;32m     77\u001b[0m \u001b[39m\"\"\"\u001b[39;00m\n\u001b[0;32m     78\u001b[0m data \u001b[39m=\u001b[39m values\u001b[39m.\u001b[39mof({\n\u001b[0;32m     79\u001b[0m     \u001b[39m'\u001b[39m\u001b[39mTo\u001b[39m\u001b[39m'\u001b[39m: to,\n\u001b[0;32m     80\u001b[0m     \u001b[39m'\u001b[39m\u001b[39mFrom\u001b[39m\u001b[39m'\u001b[39m: from_,\n\u001b[1;32m   (...)\u001b[0m\n\u001b[0;32m    100\u001b[0m     \u001b[39m'\u001b[39m\u001b[39mContentVariables\u001b[39m\u001b[39m'\u001b[39m: content_variables,\n\u001b[0;32m    101\u001b[0m })\n\u001b[1;32m--> 103\u001b[0m payload \u001b[39m=\u001b[39m \u001b[39mself\u001b[39;49m\u001b[39m.\u001b[39;49m_version\u001b[39m.\u001b[39;49mcreate(method\u001b[39m=\u001b[39;49m\u001b[39m'\u001b[39;49m\u001b[39mPOST\u001b[39;49m\u001b[39m'\u001b[39;49m, uri\u001b[39m=\u001b[39;49m\u001b[39mself\u001b[39;49m\u001b[39m.\u001b[39;49m_uri, data\u001b[39m=\u001b[39;49mdata, )\n\u001b[0;32m    105\u001b[0m \u001b[39mreturn\u001b[39;00m MessageInstance(\u001b[39mself\u001b[39m\u001b[39m.\u001b[39m_version, payload, account_sid\u001b[39m=\u001b[39m\u001b[39mself\u001b[39m\u001b[39m.\u001b[39m_solution[\u001b[39m'\u001b[39m\u001b[39maccount_sid\u001b[39m\u001b[39m'\u001b[39m], )\n",
      "File \u001b[1;32mc:\\Users\\SAVIO\\OneDrive\\Desktop\\Github\\notify\\notify\\lib\\site-packages\\twilio\\base\\version.py:205\u001b[0m, in \u001b[0;36mVersion.create\u001b[1;34m(self, method, uri, params, data, headers, auth, timeout, allow_redirects)\u001b[0m\n\u001b[0;32m    193\u001b[0m response \u001b[39m=\u001b[39m \u001b[39mself\u001b[39m\u001b[39m.\u001b[39mrequest(\n\u001b[0;32m    194\u001b[0m     method,\n\u001b[0;32m    195\u001b[0m     uri,\n\u001b[1;32m   (...)\u001b[0m\n\u001b[0;32m    201\u001b[0m     allow_redirects\u001b[39m=\u001b[39mallow_redirects,\n\u001b[0;32m    202\u001b[0m )\n\u001b[0;32m    204\u001b[0m \u001b[39mif\u001b[39;00m response\u001b[39m.\u001b[39mstatus_code \u001b[39m<\u001b[39m \u001b[39m200\u001b[39m \u001b[39mor\u001b[39;00m response\u001b[39m.\u001b[39mstatus_code \u001b[39m>\u001b[39m\u001b[39m=\u001b[39m \u001b[39m300\u001b[39m:\n\u001b[1;32m--> 205\u001b[0m     \u001b[39mraise\u001b[39;00m \u001b[39mself\u001b[39m\u001b[39m.\u001b[39mexception(method, uri, response, \u001b[39m'\u001b[39m\u001b[39mUnable to create record\u001b[39m\u001b[39m'\u001b[39m)\n\u001b[0;32m    207\u001b[0m \u001b[39mreturn\u001b[39;00m json\u001b[39m.\u001b[39mloads(response\u001b[39m.\u001b[39mtext)\n",
      "\u001b[1;31mTwilioRestException\u001b[0m: HTTP 401 error: Unable to create record: Authenticate"
     ]
    }
   ],
   "source": [
    "\n",
    "from twilio.rest import Client\n",
    "\n",
    "account_sid = 'AC99d7765d763b3d0eddb60b19a0f62d27'\n",
    "auth_token = 'f40c98cc98067c799a61b2b31e5aac26'\n",
    "client = Client(account_sid, auth_token)\n",
    "def sendMessage(name,phno):\n",
    "    message = client.messages.create(\n",
    "    from_='whatsapp:+14155238886',\n",
    "    body=\"Hey {}!\\nYour periods are on the way\\n\\nItems you might need:\\n\\nhttps://www.bigbasket.com/pc/beauty-hygiene/feminine-hygiene/tampons-menstrual-cups/\\n\\nhttps://www.stayfree.in/products\\n\\nhttps://www.bigbasket.com/ps/?q=period%20heat%20pack&nc=pscs#!page=1\".format(name),\n",
    "    to=\"whatsapp:+91{}\".format(phno)\n",
    "    )\n",
    "    print(\"message sent\")\n",
    "sendMessage(\"Delfine\",6305461499)\n"
   ]
  },
  {
   "cell_type": "code",
   "execution_count": null,
   "metadata": {},
   "outputs": [],
   "source": []
  }
 ],
 "metadata": {
  "kernelspec": {
   "display_name": "Python 3",
   "language": "python",
   "name": "python3"
  },
  "language_info": {
   "codemirror_mode": {
    "name": "ipython",
    "version": 3
   },
   "file_extension": ".py",
   "mimetype": "text/x-python",
   "name": "python",
   "nbconvert_exporter": "python",
   "pygments_lexer": "ipython3",
   "version": "3.10.7"
  },
  "orig_nbformat": 4
 },
 "nbformat": 4,
 "nbformat_minor": 2
}
